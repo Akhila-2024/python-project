{
 "cells": [
  {
   "cell_type": "code",
   "execution_count": 1,
   "id": "6f764347",
   "metadata": {},
   "outputs": [
    {
     "name": "stdout",
     "output_type": "stream",
     "text": [
      "Enter a choice (rock, paper, scissors): rock\n",
      "Player: rock\n",
      "Computer: rock\n",
      "It's a tie!\n",
      "Score: Player 0 - Computer 0\n",
      "Play again? (yes/no): yes\n",
      "Enter a choice (rock, paper, scissors): paper\n",
      "Player: paper\n",
      "Computer: paper\n",
      "It's a tie!\n",
      "Score: Player 0 - Computer 0\n",
      "Play again? (yes/no): yes\n",
      "Enter a choice (rock, paper, scissors): scissors\n",
      "Player: scissors\n",
      "Computer: scissors\n",
      "It's a tie!\n",
      "Score: Player 0 - Computer 0\n",
      "Play again? (yes/no): rock\n",
      "Thanks for playing!\n",
      "Final Score: Player 0 - Computer 0\n"
     ]
    }
   ],
   "source": [
    "import random\n",
    "\n",
    "options = (\"rock\", \"paper\", \"scissors\")\n",
    "playing = True\n",
    "player_score = 0\n",
    "computer_score = 0\n",
    "\n",
    "while playing:\n",
    "    player = None\n",
    "    computer = random.choice(options)\n",
    "\n",
    "    while player not in options:\n",
    "        player = input(\"Enter a choice (rock, paper, scissors): \").lower()\n",
    "\n",
    "    print(f\"Player: {player}\")\n",
    "    print(f\"Computer: {computer}\")\n",
    "\n",
    "    if player == computer:\n",
    "        print(\"It's a tie!\")\n",
    "    elif (player == \"rock\" and computer == \"scissors\") or \\\n",
    "         (player == \"paper\" and computer == \"rock\") or \\\n",
    "         (player == \"scissors\" and computer == \"paper\"):\n",
    "        print(\"You win!\")\n",
    "        player_score += 1\n",
    "    else:\n",
    "        print(\"You lose!\")\n",
    "        computer_score += 1\n",
    "\n",
    "    print(f\"Score: Player {player_score} - Computer {computer_score}\")\n",
    "\n",
    "    play_again = input(\"Play again? (yes/no): \").lower()\n",
    "    if play_again != \"yes\":\n",
    "        playing = False\n",
    "\n",
    "print(\"Thanks for playing!\")\n",
    "print(f\"Final Score: Player {player_score} - Computer {computer_score}\")"
   ]
  },
  {
   "cell_type": "code",
   "execution_count": null,
   "id": "ab925e70",
   "metadata": {},
   "outputs": [],
   "source": []
  }
 ],
 "metadata": {
  "kernelspec": {
   "display_name": "Python 3 (ipykernel)",
   "language": "python",
   "name": "python3"
  },
  "language_info": {
   "codemirror_mode": {
    "name": "ipython",
    "version": 3
   },
   "file_extension": ".py",
   "mimetype": "text/x-python",
   "name": "python",
   "nbconvert_exporter": "python",
   "pygments_lexer": "ipython3",
   "version": "3.11.3"
  }
 },
 "nbformat": 4,
 "nbformat_minor": 5
}
