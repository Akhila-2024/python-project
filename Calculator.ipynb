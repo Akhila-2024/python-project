{
 "cells": [
  {
   "cell_type": "code",
   "execution_count": 4,
   "id": "8b141aba",
   "metadata": {},
   "outputs": [
    {
     "name": "stdout",
     "output_type": "stream",
     "text": [
      "select an operation:\n",
      "1.add\n",
      "2.subtract\n",
      "3.multiply\n",
      "4.divide\n",
      "3\n",
      "enter first number:100\n",
      "enter second number:78945\n",
      "Product=7894500\n"
     ]
    }
   ],
   "source": [
    "print(\"select an operation:\")\n",
    "print(\"1.add\")\n",
    "print(\"2.subtract\")\n",
    "print(\"3.multiply\")\n",
    "print(\"4.divide\")\n",
    "\n",
    "operation=input()\n",
    "if operation==\"1\":\n",
    "  num1=input(\"enter first number:\")\n",
    "  num2=input(\"enter second number:\")\n",
    "  print(\"Sum=\" + str(int(num1) + int(num2)))\n",
    "elif operation==\"2\":\n",
    "  num1=input(\"enter first number:\")\n",
    "  num2=input(\"enter second number:\")\n",
    "  print(\"Difference=\" + str(int(num1) - int(num2)))\n",
    "elif operation==\"3\":\n",
    "  num1=input(\"enter first number:\")\n",
    "  num2=input(\"enter second number:\")\n",
    "  print(\"Product=\" + str(int(num1) * int(num2)))\n",
    "elif operation==\"4\":\n",
    "  num1=input(\"enter first number:\")\n",
    "  num2=input(\"enter second number:\")\n",
    "  if int(num2) != 0:\n",
    "        print(\"Division=\" + str(int(num1) / int(num2)))\n",
    "  else:\n",
    "        print(\"Error: Division by zero\")\n",
    "else:\n",
    "    print(\"Invalid entry\")"
   ]
  },
  {
   "cell_type": "code",
   "execution_count": null,
   "id": "7f47b295",
   "metadata": {},
   "outputs": [],
   "source": [
    "\n"
   ]
  },
  {
   "cell_type": "code",
   "execution_count": null,
   "id": "8c3e4046",
   "metadata": {},
   "outputs": [],
   "source": []
  }
 ],
 "metadata": {
  "kernelspec": {
   "display_name": "Python 3 (ipykernel)",
   "language": "python",
   "name": "python3"
  },
  "language_info": {
   "codemirror_mode": {
    "name": "ipython",
    "version": 3
   },
   "file_extension": ".py",
   "mimetype": "text/x-python",
   "name": "python",
   "nbconvert_exporter": "python",
   "pygments_lexer": "ipython3",
   "version": "3.11.3"
  }
 },
 "nbformat": 4,
 "nbformat_minor": 5
}
